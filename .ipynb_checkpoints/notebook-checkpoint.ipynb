{
 "cells": [
  {
   "cell_type": "markdown",
   "metadata": {},
   "source": [
    "<img src=\"https://cybersecurity-excellence-awards.com/wp-content/uploads/2017/06/366812.png\">"
   ]
  },
  {
   "cell_type": "markdown",
   "metadata": {},
   "source": [
    "# Import libraries"
   ]
  },
  {
   "cell_type": "code",
   "execution_count": 1,
   "metadata": {
    "collapsed": true
   },
   "outputs": [],
   "source": [
    "# Import necessary libraries\n",
    "import warnings\n",
    "warnings.filterwarnings(\"ignore\", message=\"numpy.dtype size changed\")\n",
    "%matplotlib inline\n",
    "import matplotlib.pyplot as plt\n",
    "import pandas as pd\n",
    "from IPython.display import Image\n",
    "from time import sleep\n",
    "import os\n",
    "import sys\n",
    "import numpy as np\n",
    "import pandas as pd\n",
    "import re\n",
    "from pandas import DataFrame, Series\n",
    "from sklearn.metrics import r2_score\n",
    "\n",
    "# A timestamp is used to create a unique name in the event you execute the workflow multiple times or with \n",
    "# different datasets.  File names must be unique in Darwin.\n",
    "import datetime\n",
    "ts = '{:%Y%m%d%H%M%S}'.format(datetime.datetime.now())\n",
    "\n",
    "from amb_sdk.sdk import DarwinSdk"
   ]
  },
  {
   "cell_type": "markdown",
   "metadata": {},
   "source": [
    "<h1><center>Darwin Supervised Regression Model Building </center></h1>"
   ]
  },
  {
   "cell_type": "markdown",
   "metadata": {},
   "source": [
    "<img src=\"images/darwin.jpg\">"
   ]
  },
  {
   "cell_type": "markdown",
   "metadata": {},
   "source": [
    "## Setup Darwin SDK"
   ]
  },
  {
   "cell_type": "code",
   "execution_count": 2,
   "metadata": {
    "collapsed": true
   },
   "outputs": [],
   "source": [
    "# Login\n",
    "ds = DarwinSdk()\n",
    "ds.set_url('https://amb-demo-api.sparkcognition.com/v1/')\n",
    "status, msg = ds.auth_login_user('yasser@utexas.edu', 'En5dC4ZGwL')"
   ]
  },
  {
   "cell_type": "markdown",
   "metadata": {
    "collapsed": true
   },
   "source": [
    "# Import the data"
   ]
  },
  {
   "cell_type": "markdown",
   "metadata": {},
   "source": [
    "<img src=\"images/airbnb.jpg\">"
   ]
  },
  {
   "cell_type": "code",
   "execution_count": 3,
   "metadata": {},
   "outputs": [
    {
     "name": "stdout",
     "output_type": "stream",
     "text": [
      "(12126, 35)\n"
     ]
    }
   ],
   "source": [
    "# import dataset\n",
    "temp_data = pd.read_csv('data\\listings.csv', header = 0)\n",
    "\n",
    "# make pandas dataframe with starting columns\n",
    "data = temp_data[['host_name', 'host_since', 'host_response_time', 'host_response_rate', 'host_is_superhost',\n",
    "             'host_total_listings_count', 'host_identity_verified', 'neighbourhood', 'property_type', 'room_type',\n",
    "            'accommodates', 'bathrooms', 'bedrooms', 'beds', 'bed_type', 'extra_people', 'minimum_nights',\n",
    "            'maximum_nights','availability_30','availability_60','availability_90','availability_365','number_of_reviews',\n",
    "            'review_scores_rating', 'review_scores_accuracy','review_scores_cleanliness','review_scores_checkin',\n",
    "            'review_scores_communication','review_scores_location','review_scores_value','instant_bookable',\n",
    "             'cancellation_policy','calculated_host_listings_count','reviews_per_month','price']]\n",
    "print(data.shape)"
   ]
  },
  {
   "cell_type": "markdown",
   "metadata": {},
   "source": [
    "## Feature Engineering"
   ]
  },
  {
   "cell_type": "markdown",
   "metadata": {},
   "source": [
    "**feature engineer the 'host_name' column**"
   ]
  },
  {
   "cell_type": "markdown",
   "metadata": {},
   "source": [
    "<img src=\"images/gender.png\">"
   ]
  },
  {
   "cell_type": "code",
   "execution_count": 4,
   "metadata": {},
   "outputs": [
    {
     "name": "stderr",
     "output_type": "stream",
     "text": [
      "C:\\Users\\ykass\\Anaconda3\\lib\\site-packages\\ipykernel_launcher.py:51: SettingWithCopyWarning: \n",
      "A value is trying to be set on a copy of a slice from a DataFrame.\n",
      "Try using .loc[row_indexer,col_indexer] = value instead\n",
      "\n",
      "See the caveats in the documentation: http://pandas.pydata.org/pandas-docs/stable/indexing.html#indexing-view-versus-copy\n",
      "C:\\Users\\ykass\\Anaconda3\\lib\\site-packages\\pandas\\core\\frame.py:2746: SettingWithCopyWarning: \n",
      "A value is trying to be set on a copy of a slice from a DataFrame\n",
      "\n",
      "See the caveats in the documentation: http://pandas.pydata.org/pandas-docs/stable/indexing.html#indexing-view-versus-copy\n",
      "  **kwargs)\n"
     ]
    },
    {
     "data": {
      "text/html": [
       "<div>\n",
       "<style>\n",
       "    .dataframe thead tr:only-child th {\n",
       "        text-align: right;\n",
       "    }\n",
       "\n",
       "    .dataframe thead th {\n",
       "        text-align: left;\n",
       "    }\n",
       "\n",
       "    .dataframe tbody tr th {\n",
       "        vertical-align: top;\n",
       "    }\n",
       "</style>\n",
       "<table border=\"1\" class=\"dataframe\">\n",
       "  <thead>\n",
       "    <tr style=\"text-align: right;\">\n",
       "      <th></th>\n",
       "      <th>host_type</th>\n",
       "      <th>host_since</th>\n",
       "      <th>host_response_time</th>\n",
       "      <th>host_response_rate</th>\n",
       "      <th>host_is_superhost</th>\n",
       "      <th>host_total_listings_count</th>\n",
       "      <th>host_identity_verified</th>\n",
       "      <th>neighbourhood</th>\n",
       "      <th>property_type</th>\n",
       "      <th>room_type</th>\n",
       "      <th>...</th>\n",
       "      <th>review_scores_cleanliness</th>\n",
       "      <th>review_scores_checkin</th>\n",
       "      <th>review_scores_communication</th>\n",
       "      <th>review_scores_location</th>\n",
       "      <th>review_scores_value</th>\n",
       "      <th>instant_bookable</th>\n",
       "      <th>cancellation_policy</th>\n",
       "      <th>calculated_host_listings_count</th>\n",
       "      <th>reviews_per_month</th>\n",
       "      <th>price</th>\n",
       "    </tr>\n",
       "  </thead>\n",
       "  <tbody>\n",
       "    <tr>\n",
       "      <th>0</th>\n",
       "      <td>mostly_female</td>\n",
       "      <td>2013-01-08</td>\n",
       "      <td>within an hour</td>\n",
       "      <td>100%</td>\n",
       "      <td>t</td>\n",
       "      <td>3.0</td>\n",
       "      <td>t</td>\n",
       "      <td>University of Texas</td>\n",
       "      <td>Guesthouse</td>\n",
       "      <td>Entire home/apt</td>\n",
       "      <td>...</td>\n",
       "      <td>10.0</td>\n",
       "      <td>10.0</td>\n",
       "      <td>10.0</td>\n",
       "      <td>10.0</td>\n",
       "      <td>10.0</td>\n",
       "      <td>t</td>\n",
       "      <td>flexible</td>\n",
       "      <td>3</td>\n",
       "      <td>1.63</td>\n",
       "      <td>$85.00</td>\n",
       "    </tr>\n",
       "    <tr>\n",
       "      <th>1</th>\n",
       "      <td>male</td>\n",
       "      <td>2008-08-23</td>\n",
       "      <td>within an hour</td>\n",
       "      <td>100%</td>\n",
       "      <td>t</td>\n",
       "      <td>3.0</td>\n",
       "      <td>t</td>\n",
       "      <td>East Downtown</td>\n",
       "      <td>House</td>\n",
       "      <td>Entire home/apt</td>\n",
       "      <td>...</td>\n",
       "      <td>10.0</td>\n",
       "      <td>9.0</td>\n",
       "      <td>10.0</td>\n",
       "      <td>8.0</td>\n",
       "      <td>9.0</td>\n",
       "      <td>f</td>\n",
       "      <td>strict_14_with_grace_period</td>\n",
       "      <td>3</td>\n",
       "      <td>0.19</td>\n",
       "      <td>$225.00</td>\n",
       "    </tr>\n",
       "    <tr>\n",
       "      <th>2</th>\n",
       "      <td>male</td>\n",
       "      <td>2008-08-23</td>\n",
       "      <td>within an hour</td>\n",
       "      <td>100%</td>\n",
       "      <td>t</td>\n",
       "      <td>3.0</td>\n",
       "      <td>t</td>\n",
       "      <td>East Downtown</td>\n",
       "      <td>House</td>\n",
       "      <td>Private room</td>\n",
       "      <td>...</td>\n",
       "      <td>8.0</td>\n",
       "      <td>10.0</td>\n",
       "      <td>9.0</td>\n",
       "      <td>10.0</td>\n",
       "      <td>9.0</td>\n",
       "      <td>f</td>\n",
       "      <td>strict_14_with_grace_period</td>\n",
       "      <td>3</td>\n",
       "      <td>0.07</td>\n",
       "      <td>$100.00</td>\n",
       "    </tr>\n",
       "    <tr>\n",
       "      <th>3</th>\n",
       "      <td>female</td>\n",
       "      <td>2009-02-16</td>\n",
       "      <td>within a few hours</td>\n",
       "      <td>100%</td>\n",
       "      <td>t</td>\n",
       "      <td>1.0</td>\n",
       "      <td>t</td>\n",
       "      <td>East Downtown</td>\n",
       "      <td>Guesthouse</td>\n",
       "      <td>Entire home/apt</td>\n",
       "      <td>...</td>\n",
       "      <td>10.0</td>\n",
       "      <td>10.0</td>\n",
       "      <td>10.0</td>\n",
       "      <td>10.0</td>\n",
       "      <td>10.0</td>\n",
       "      <td>f</td>\n",
       "      <td>strict_14_with_grace_period</td>\n",
       "      <td>1</td>\n",
       "      <td>3.88</td>\n",
       "      <td>$95.00</td>\n",
       "    </tr>\n",
       "    <tr>\n",
       "      <th>4</th>\n",
       "      <td>female</td>\n",
       "      <td>2009-02-19</td>\n",
       "      <td>within a few hours</td>\n",
       "      <td>100%</td>\n",
       "      <td>t</td>\n",
       "      <td>1.0</td>\n",
       "      <td>t</td>\n",
       "      <td>SW Williamson Co.</td>\n",
       "      <td>House</td>\n",
       "      <td>Private room</td>\n",
       "      <td>...</td>\n",
       "      <td>10.0</td>\n",
       "      <td>10.0</td>\n",
       "      <td>10.0</td>\n",
       "      <td>10.0</td>\n",
       "      <td>10.0</td>\n",
       "      <td>f</td>\n",
       "      <td>moderate</td>\n",
       "      <td>1</td>\n",
       "      <td>2.21</td>\n",
       "      <td>$40.00</td>\n",
       "    </tr>\n",
       "    <tr>\n",
       "      <th>5</th>\n",
       "      <td>male</td>\n",
       "      <td>2009-04-17</td>\n",
       "      <td>within an hour</td>\n",
       "      <td>100%</td>\n",
       "      <td>t</td>\n",
       "      <td>1.0</td>\n",
       "      <td>f</td>\n",
       "      <td>Travis Heights</td>\n",
       "      <td>Apartment</td>\n",
       "      <td>Entire home/apt</td>\n",
       "      <td>...</td>\n",
       "      <td>10.0</td>\n",
       "      <td>10.0</td>\n",
       "      <td>10.0</td>\n",
       "      <td>10.0</td>\n",
       "      <td>10.0</td>\n",
       "      <td>t</td>\n",
       "      <td>strict_14_with_grace_period</td>\n",
       "      <td>1</td>\n",
       "      <td>0.77</td>\n",
       "      <td>$99.00</td>\n",
       "    </tr>\n",
       "    <tr>\n",
       "      <th>6</th>\n",
       "      <td>female</td>\n",
       "      <td>2009-04-20</td>\n",
       "      <td>within an hour</td>\n",
       "      <td>100%</td>\n",
       "      <td>t</td>\n",
       "      <td>2.0</td>\n",
       "      <td>t</td>\n",
       "      <td>Zilker</td>\n",
       "      <td>Guesthouse</td>\n",
       "      <td>Entire home/apt</td>\n",
       "      <td>...</td>\n",
       "      <td>10.0</td>\n",
       "      <td>10.0</td>\n",
       "      <td>10.0</td>\n",
       "      <td>10.0</td>\n",
       "      <td>10.0</td>\n",
       "      <td>t</td>\n",
       "      <td>strict_14_with_grace_period</td>\n",
       "      <td>2</td>\n",
       "      <td>2.18</td>\n",
       "      <td>$129.00</td>\n",
       "    </tr>\n",
       "    <tr>\n",
       "      <th>7</th>\n",
       "      <td>female</td>\n",
       "      <td>2009-07-11</td>\n",
       "      <td>within a day</td>\n",
       "      <td>100%</td>\n",
       "      <td>f</td>\n",
       "      <td>1.0</td>\n",
       "      <td>f</td>\n",
       "      <td>East Riverside</td>\n",
       "      <td>Guest suite</td>\n",
       "      <td>Entire home/apt</td>\n",
       "      <td>...</td>\n",
       "      <td>9.0</td>\n",
       "      <td>10.0</td>\n",
       "      <td>10.0</td>\n",
       "      <td>9.0</td>\n",
       "      <td>9.0</td>\n",
       "      <td>f</td>\n",
       "      <td>strict_14_with_grace_period</td>\n",
       "      <td>1</td>\n",
       "      <td>0.41</td>\n",
       "      <td>$40.00</td>\n",
       "    </tr>\n",
       "    <tr>\n",
       "      <th>8</th>\n",
       "      <td>female</td>\n",
       "      <td>2009-11-27</td>\n",
       "      <td>within a few hours</td>\n",
       "      <td>100%</td>\n",
       "      <td>t</td>\n",
       "      <td>1.0</td>\n",
       "      <td>t</td>\n",
       "      <td>Travis Heights</td>\n",
       "      <td>House</td>\n",
       "      <td>Entire home/apt</td>\n",
       "      <td>...</td>\n",
       "      <td>10.0</td>\n",
       "      <td>10.0</td>\n",
       "      <td>10.0</td>\n",
       "      <td>10.0</td>\n",
       "      <td>9.0</td>\n",
       "      <td>f</td>\n",
       "      <td>strict_14_with_grace_period</td>\n",
       "      <td>1</td>\n",
       "      <td>0.60</td>\n",
       "      <td>$260.00</td>\n",
       "    </tr>\n",
       "    <tr>\n",
       "      <th>9</th>\n",
       "      <td>male</td>\n",
       "      <td>2009-11-30</td>\n",
       "      <td>within a day</td>\n",
       "      <td>80%</td>\n",
       "      <td>f</td>\n",
       "      <td>2.0</td>\n",
       "      <td>t</td>\n",
       "      <td>NaN</td>\n",
       "      <td>House</td>\n",
       "      <td>Entire home/apt</td>\n",
       "      <td>...</td>\n",
       "      <td>10.0</td>\n",
       "      <td>10.0</td>\n",
       "      <td>10.0</td>\n",
       "      <td>9.0</td>\n",
       "      <td>10.0</td>\n",
       "      <td>f</td>\n",
       "      <td>strict_14_with_grace_period</td>\n",
       "      <td>1</td>\n",
       "      <td>0.41</td>\n",
       "      <td>$300.00</td>\n",
       "    </tr>\n",
       "  </tbody>\n",
       "</table>\n",
       "<p>10 rows × 35 columns</p>\n",
       "</div>"
      ],
      "text/plain": [
       "       host_type  host_since  host_response_time host_response_rate  \\\n",
       "0  mostly_female  2013-01-08      within an hour               100%   \n",
       "1           male  2008-08-23      within an hour               100%   \n",
       "2           male  2008-08-23      within an hour               100%   \n",
       "3         female  2009-02-16  within a few hours               100%   \n",
       "4         female  2009-02-19  within a few hours               100%   \n",
       "5           male  2009-04-17      within an hour               100%   \n",
       "6         female  2009-04-20      within an hour               100%   \n",
       "7         female  2009-07-11        within a day               100%   \n",
       "8         female  2009-11-27  within a few hours               100%   \n",
       "9           male  2009-11-30        within a day                80%   \n",
       "\n",
       "  host_is_superhost  host_total_listings_count host_identity_verified  \\\n",
       "0                 t                        3.0                      t   \n",
       "1                 t                        3.0                      t   \n",
       "2                 t                        3.0                      t   \n",
       "3                 t                        1.0                      t   \n",
       "4                 t                        1.0                      t   \n",
       "5                 t                        1.0                      f   \n",
       "6                 t                        2.0                      t   \n",
       "7                 f                        1.0                      f   \n",
       "8                 t                        1.0                      t   \n",
       "9                 f                        2.0                      t   \n",
       "\n",
       "         neighbourhood property_type        room_type   ...     \\\n",
       "0  University of Texas    Guesthouse  Entire home/apt   ...      \n",
       "1        East Downtown         House  Entire home/apt   ...      \n",
       "2        East Downtown         House     Private room   ...      \n",
       "3        East Downtown    Guesthouse  Entire home/apt   ...      \n",
       "4    SW Williamson Co.         House     Private room   ...      \n",
       "5       Travis Heights     Apartment  Entire home/apt   ...      \n",
       "6               Zilker    Guesthouse  Entire home/apt   ...      \n",
       "7       East Riverside   Guest suite  Entire home/apt   ...      \n",
       "8       Travis Heights         House  Entire home/apt   ...      \n",
       "9                  NaN         House  Entire home/apt   ...      \n",
       "\n",
       "   review_scores_cleanliness  review_scores_checkin  \\\n",
       "0                       10.0                   10.0   \n",
       "1                       10.0                    9.0   \n",
       "2                        8.0                   10.0   \n",
       "3                       10.0                   10.0   \n",
       "4                       10.0                   10.0   \n",
       "5                       10.0                   10.0   \n",
       "6                       10.0                   10.0   \n",
       "7                        9.0                   10.0   \n",
       "8                       10.0                   10.0   \n",
       "9                       10.0                   10.0   \n",
       "\n",
       "   review_scores_communication  review_scores_location review_scores_value  \\\n",
       "0                         10.0                    10.0                10.0   \n",
       "1                         10.0                     8.0                 9.0   \n",
       "2                          9.0                    10.0                 9.0   \n",
       "3                         10.0                    10.0                10.0   \n",
       "4                         10.0                    10.0                10.0   \n",
       "5                         10.0                    10.0                10.0   \n",
       "6                         10.0                    10.0                10.0   \n",
       "7                         10.0                     9.0                 9.0   \n",
       "8                         10.0                    10.0                 9.0   \n",
       "9                         10.0                     9.0                10.0   \n",
       "\n",
       "  instant_bookable          cancellation_policy  \\\n",
       "0                t                     flexible   \n",
       "1                f  strict_14_with_grace_period   \n",
       "2                f  strict_14_with_grace_period   \n",
       "3                f  strict_14_with_grace_period   \n",
       "4                f                     moderate   \n",
       "5                t  strict_14_with_grace_period   \n",
       "6                t  strict_14_with_grace_period   \n",
       "7                f  strict_14_with_grace_period   \n",
       "8                f  strict_14_with_grace_period   \n",
       "9                f  strict_14_with_grace_period   \n",
       "\n",
       "   calculated_host_listings_count  reviews_per_month    price  \n",
       "0                               3               1.63   $85.00  \n",
       "1                               3               0.19  $225.00  \n",
       "2                               3               0.07  $100.00  \n",
       "3                               1               3.88   $95.00  \n",
       "4                               1               2.21   $40.00  \n",
       "5                               1               0.77   $99.00  \n",
       "6                               2               2.18  $129.00  \n",
       "7                               1               0.41   $40.00  \n",
       "8                               1               0.60  $260.00  \n",
       "9                               1               0.41  $300.00  \n",
       "\n",
       "[10 rows x 35 columns]"
      ]
     },
     "execution_count": 4,
     "metadata": {},
     "output_type": "execute_result"
    }
   ],
   "source": [
    "import gender_guesser.detector as gender\n",
    "\n",
    "d = gender.Detector()\n",
    "genders = []\n",
    "comp = []\n",
    "comp.append(\"rent\")\n",
    "comp.append(\"Rent\")\n",
    "comp.append(\"propert\")\n",
    "comp.append(\"Propert\")\n",
    "comp.append(\"vacation\")\n",
    "comp.append(\"Vacation\")\n",
    "comp.append(\"LLC\")\n",
    "comp.append(\"llc\")\n",
    "comp.append(\"estate\")\n",
    "comp.append(\"Estate\")\n",
    "comp.append(\"The\")\n",
    "comp.append('manag')\n",
    "comp.append(\"Manag\")\n",
    "\n",
    "compound = []\n",
    "\n",
    "compound.append('and')\n",
    "compound.append('And')\n",
    "compound.append('+')\n",
    "compound.append('&')\n",
    "\n",
    "for row in data.itertuples():\n",
    "\tname = str(row.host_name)\n",
    "\tgender = d.get_gender(row.host_name)\n",
    "\tif gender == 'male' or gender == 'female' or gender == 'mostly_male' or gender == 'mostly_female':\n",
    "\t\tgenders.append(gender)\n",
    "\t\tcontinue\n",
    "\ttry:\n",
    "\t\tlist_name = name.split()\n",
    "\texcept:\n",
    "\t\tgenders.append('nonsense')\n",
    "\tflag = False\n",
    "\tfor thing in comp:\n",
    "\t\tx = re.search(thing, name)\n",
    "\t\tif x:\n",
    "\t\t\tflag=True\n",
    "\tif 'and' in name or 'And' in name or '&' in name or '+' in name:\n",
    "\t\tgender = 'couple'\n",
    "\telif len(list_name) >= 3:\n",
    "\t\tgender = \"company\"\n",
    "\telif flag:\n",
    "\t\tgender = \"company\"\n",
    "\n",
    "\tgenders.append(gender)\n",
    "\n",
    "data['host_name'] = Series(genders, index=data.index)\n",
    "data.rename(columns={'host_name':'host_type'}, inplace=True)\n",
    "\n",
    "data.head(10)"
   ]
  },
  {
   "cell_type": "markdown",
   "metadata": {},
   "source": [
    "**feature engineer the 'amenities' column**"
   ]
  },
  {
   "cell_type": "code",
   "execution_count": 5,
   "metadata": {
    "collapsed": true
   },
   "outputs": [],
   "source": [
    "dataset = pd.read_csv(\"data/listings.csv\", header = 0)\n",
    "mem = []\n",
    "for row in dataset.itertuples():\n",
    "\tam = str(row.amenities).strip('{')\n",
    "\tam = am.strip('}')\n",
    "\tam = am.split(',')\n",
    "\tfor a in am:\n",
    "\t\ta = a.strip('\"')\n",
    "\t\ta = a.replace(' ', '_')\n",
    "\t\tif a not in mem and 'ther' not in mem and '_49' not in a and 'Stair g' not in a and ' hoist' not in a and 'corner guar' not in a and a != '' and '_50' not in a:\n",
    "\t\t\tmem.append(a)"
   ]
  },
  {
   "cell_type": "code",
   "execution_count": 6,
   "metadata": {
    "collapsed": true
   },
   "outputs": [],
   "source": [
    "for i in range(len(mem)):\n",
    "\tmem[i] = [mem[i], ['no']]"
   ]
  },
  {
   "cell_type": "code",
   "execution_count": 7,
   "metadata": {
    "collapsed": true
   },
   "outputs": [],
   "source": [
    "for row in dataset.itertuples():\n",
    "\tam = str(row.amenities).strip('{')\n",
    "\tam = am.strip('}')\n",
    "\tam = am.split(',')\n",
    "\tfor m in mem:\n",
    "\t\tflag = False\n",
    "\t\tfor a in am:\n",
    "\t\t\ta = a.strip('\"')\n",
    "\t\t\ta = a.replace(' ', '_')\n",
    "\t\t\tif a == m[0]:\n",
    "\t\t\t\tflag = True\n",
    "\t\tif flag == False:\n",
    "\t\t\tif len(m) < 3:\n",
    "\t\t\t\tm.append('count')\n",
    "\t\t\telse:\n",
    "\t\t\t\tm[1].append('no')\n",
    "\t\telse:\n",
    "\t\t\tif len(m) < 3:\n",
    "\t\t\t\tm.append('count')\n",
    "\t\t\t\tm[1] = ['yes']\n",
    "\t\t\telse:\n",
    "\t\t\t\tm[1].append('yes')"
   ]
  },
  {
   "cell_type": "code",
   "execution_count": 8,
   "metadata": {
    "collapsed": true
   },
   "outputs": [],
   "source": [
    "hitlist = []\n",
    "for i in range(len(mem)-1):\n",
    "\tatt = mem[i]\n",
    "\tatt = list(filter(('no').__ne__, att[1]))\n",
    "\tif len(att) < 2000:\n",
    "\t\thitlist.append(i)"
   ]
  },
  {
   "cell_type": "code",
   "execution_count": 9,
   "metadata": {
    "collapsed": true
   },
   "outputs": [],
   "source": [
    "hitlist = sorted(hitlist, reverse=True)\n",
    "for x in hitlist:\n",
    "\tdel mem[x]"
   ]
  },
  {
   "cell_type": "code",
   "execution_count": 10,
   "metadata": {},
   "outputs": [
    {
     "name": "stderr",
     "output_type": "stream",
     "text": [
      "C:\\Users\\ykass\\Anaconda3\\lib\\site-packages\\ipykernel_launcher.py:2: SettingWithCopyWarning: \n",
      "A value is trying to be set on a copy of a slice from a DataFrame.\n",
      "Try using .loc[row_indexer,col_indexer] = value instead\n",
      "\n",
      "See the caveats in the documentation: http://pandas.pydata.org/pandas-docs/stable/indexing.html#indexing-view-versus-copy\n",
      "  \n"
     ]
    },
    {
     "name": "stdout",
     "output_type": "stream",
     "text": [
      "       host_type  host_since  host_response_time host_response_rate  \\\n",
      "0  mostly_female  2013-01-08      within an hour               100%   \n",
      "1           male  2008-08-23      within an hour               100%   \n",
      "2           male  2008-08-23      within an hour               100%   \n",
      "3         female  2009-02-16  within a few hours               100%   \n",
      "4         female  2009-02-19  within a few hours               100%   \n",
      "\n",
      "  host_is_superhost  host_total_listings_count host_identity_verified  \\\n",
      "0                 t                        3.0                      t   \n",
      "1                 t                        3.0                      t   \n",
      "2                 t                        3.0                      t   \n",
      "3                 t                        1.0                      t   \n",
      "4                 t                        1.0                      t   \n",
      "\n",
      "         neighbourhood property_type        room_type   ...     \\\n",
      "0  University of Texas    Guesthouse  Entire home/apt   ...      \n",
      "1        East Downtown         House  Entire home/apt   ...      \n",
      "2        East Downtown         House     Private room   ...      \n",
      "3        East Downtown    Guesthouse  Entire home/apt   ...      \n",
      "4    SW Williamson Co.         House     Private room   ...      \n",
      "\n",
      "   Luggage_dropoff_allowed  Patio_or_balcony  Long_term_stays_allowed  \\\n",
      "0                       no                no                       no   \n",
      "1                       no                no                       no   \n",
      "2                      yes                no                       no   \n",
      "3                      yes               yes                      yes   \n",
      "4                       no                no                       no   \n",
      "\n",
      "   Indoor_fireplace First_aid_kit Fire_extinguisher  Pets_allowed  Pool  \\\n",
      "0                no            no                no            no    no   \n",
      "1                no            no                no            no    no   \n",
      "2                no            no                no            no    no   \n",
      "3                no            no                no            no    no   \n",
      "4               yes           yes               yes            no    no   \n",
      "\n",
      "   Dishwasher  Freezer  \n",
      "0          no       no  \n",
      "1          no       no  \n",
      "2          no       no  \n",
      "3          no       no  \n",
      "4          no       no  \n",
      "\n",
      "[5 rows x 81 columns]\n"
     ]
    }
   ],
   "source": [
    "for m in mem:\n",
    "\tdata[m[0]] = Series(m[1], index= data.index)\n",
    "print(data.head())"
   ]
  },
  {
   "cell_type": "markdown",
   "metadata": {},
   "source": [
    "**feature engineer the 'price column**"
   ]
  },
  {
   "cell_type": "code",
   "execution_count": 11,
   "metadata": {},
   "outputs": [
    {
     "name": "stdout",
     "output_type": "stream",
     "text": [
      "<class 'pandas.core.frame.DataFrame'>\n"
     ]
    }
   ],
   "source": [
    "data = data[data['price'].notnull()]\n",
    "data = data.drop(data[data.price == '0'].index)\n",
    "\n",
    "def myround(x, base=5):\n",
    "    #print(x)\n",
    "    return str(base * round(int(x)/base))\n",
    "\n",
    "new_prices = []\n",
    "\n",
    "print(type(data))\n",
    "\n",
    "for row in data.itertuples():\n",
    "    price = row.price\n",
    "    #print('starting:', price)\n",
    "    price = price.lstrip(\"$\")\n",
    "    price = price.replace(',', '')\n",
    "    price = float(price)\n",
    "    price = myround(price)\n",
    "    #print('end:', price)\n",
    "    new_prices.append(price)\n",
    "\n",
    "data['price'] = new_prices"
   ]
  },
  {
   "cell_type": "markdown",
   "metadata": {},
   "source": [
    "## Data Upload and Clean with Darwin"
   ]
  },
  {
   "cell_type": "markdown",
   "metadata": {},
   "source": [
    "<img src=\"images/clean.png\">"
   ]
  },
  {
   "cell_type": "markdown",
   "metadata": {},
   "source": [
    "**Upload dataset to Darwin**"
   ]
  },
  {
   "cell_type": "code",
   "execution_count": 20,
   "metadata": {},
   "outputs": [
    {
     "data": {
      "text/html": [
       "<div>\n",
       "<style>\n",
       "    .dataframe thead tr:only-child th {\n",
       "        text-align: right;\n",
       "    }\n",
       "\n",
       "    .dataframe thead th {\n",
       "        text-align: left;\n",
       "    }\n",
       "\n",
       "    .dataframe tbody tr th {\n",
       "        vertical-align: top;\n",
       "    }\n",
       "</style>\n",
       "<table border=\"1\" class=\"dataframe\">\n",
       "  <thead>\n",
       "    <tr style=\"text-align: right;\">\n",
       "      <th></th>\n",
       "      <th>host_type</th>\n",
       "      <th>host_since</th>\n",
       "      <th>host_response_time</th>\n",
       "      <th>host_response_rate</th>\n",
       "      <th>host_is_superhost</th>\n",
       "      <th>host_total_listings_count</th>\n",
       "      <th>host_identity_verified</th>\n",
       "      <th>neighbourhood</th>\n",
       "      <th>property_type</th>\n",
       "      <th>room_type</th>\n",
       "      <th>...</th>\n",
       "      <th>Dishes_and_silverware</th>\n",
       "      <th>Cooking_basics</th>\n",
       "      <th>Oven</th>\n",
       "      <th>Stove</th>\n",
       "      <th>Garden_or_backyard</th>\n",
       "      <th>Lock_on_bedroom_door</th>\n",
       "      <th>Luggage_dropoff_allowed</th>\n",
       "      <th>Patio_or_balcony</th>\n",
       "      <th>Long_term_stays_allowed</th>\n",
       "      <th>Indoor_fireplace</th>\n",
       "    </tr>\n",
       "  </thead>\n",
       "  <tbody>\n",
       "    <tr>\n",
       "      <th>0</th>\n",
       "      <td>mostly_female</td>\n",
       "      <td>2013-01-08</td>\n",
       "      <td>within an hour</td>\n",
       "      <td>100%</td>\n",
       "      <td>t</td>\n",
       "      <td>3.0</td>\n",
       "      <td>t</td>\n",
       "      <td>University of Texas</td>\n",
       "      <td>Guesthouse</td>\n",
       "      <td>Entire home/apt</td>\n",
       "      <td>...</td>\n",
       "      <td>no</td>\n",
       "      <td>no</td>\n",
       "      <td>no</td>\n",
       "      <td>no</td>\n",
       "      <td>no</td>\n",
       "      <td>no</td>\n",
       "      <td>no</td>\n",
       "      <td>no</td>\n",
       "      <td>no</td>\n",
       "      <td>no</td>\n",
       "    </tr>\n",
       "    <tr>\n",
       "      <th>1</th>\n",
       "      <td>male</td>\n",
       "      <td>2008-08-23</td>\n",
       "      <td>within an hour</td>\n",
       "      <td>100%</td>\n",
       "      <td>t</td>\n",
       "      <td>3.0</td>\n",
       "      <td>t</td>\n",
       "      <td>East Downtown</td>\n",
       "      <td>House</td>\n",
       "      <td>Entire home/apt</td>\n",
       "      <td>...</td>\n",
       "      <td>yes</td>\n",
       "      <td>yes</td>\n",
       "      <td>yes</td>\n",
       "      <td>yes</td>\n",
       "      <td>yes</td>\n",
       "      <td>no</td>\n",
       "      <td>no</td>\n",
       "      <td>no</td>\n",
       "      <td>no</td>\n",
       "      <td>no</td>\n",
       "    </tr>\n",
       "    <tr>\n",
       "      <th>2</th>\n",
       "      <td>male</td>\n",
       "      <td>2008-08-23</td>\n",
       "      <td>within an hour</td>\n",
       "      <td>100%</td>\n",
       "      <td>t</td>\n",
       "      <td>3.0</td>\n",
       "      <td>t</td>\n",
       "      <td>East Downtown</td>\n",
       "      <td>House</td>\n",
       "      <td>Private room</td>\n",
       "      <td>...</td>\n",
       "      <td>no</td>\n",
       "      <td>no</td>\n",
       "      <td>no</td>\n",
       "      <td>no</td>\n",
       "      <td>no</td>\n",
       "      <td>yes</td>\n",
       "      <td>yes</td>\n",
       "      <td>no</td>\n",
       "      <td>no</td>\n",
       "      <td>no</td>\n",
       "    </tr>\n",
       "    <tr>\n",
       "      <th>3</th>\n",
       "      <td>female</td>\n",
       "      <td>2009-02-16</td>\n",
       "      <td>within a few hours</td>\n",
       "      <td>100%</td>\n",
       "      <td>t</td>\n",
       "      <td>1.0</td>\n",
       "      <td>t</td>\n",
       "      <td>East Downtown</td>\n",
       "      <td>Guesthouse</td>\n",
       "      <td>Entire home/apt</td>\n",
       "      <td>...</td>\n",
       "      <td>yes</td>\n",
       "      <td>no</td>\n",
       "      <td>no</td>\n",
       "      <td>no</td>\n",
       "      <td>yes</td>\n",
       "      <td>no</td>\n",
       "      <td>yes</td>\n",
       "      <td>yes</td>\n",
       "      <td>yes</td>\n",
       "      <td>no</td>\n",
       "    </tr>\n",
       "    <tr>\n",
       "      <th>4</th>\n",
       "      <td>female</td>\n",
       "      <td>2009-02-19</td>\n",
       "      <td>within a few hours</td>\n",
       "      <td>100%</td>\n",
       "      <td>t</td>\n",
       "      <td>1.0</td>\n",
       "      <td>t</td>\n",
       "      <td>SW Williamson Co.</td>\n",
       "      <td>House</td>\n",
       "      <td>Private room</td>\n",
       "      <td>...</td>\n",
       "      <td>no</td>\n",
       "      <td>no</td>\n",
       "      <td>no</td>\n",
       "      <td>no</td>\n",
       "      <td>no</td>\n",
       "      <td>yes</td>\n",
       "      <td>no</td>\n",
       "      <td>no</td>\n",
       "      <td>no</td>\n",
       "      <td>yes</td>\n",
       "    </tr>\n",
       "    <tr>\n",
       "      <th>5</th>\n",
       "      <td>male</td>\n",
       "      <td>2009-04-17</td>\n",
       "      <td>within an hour</td>\n",
       "      <td>100%</td>\n",
       "      <td>t</td>\n",
       "      <td>1.0</td>\n",
       "      <td>f</td>\n",
       "      <td>Travis Heights</td>\n",
       "      <td>Apartment</td>\n",
       "      <td>Entire home/apt</td>\n",
       "      <td>...</td>\n",
       "      <td>no</td>\n",
       "      <td>no</td>\n",
       "      <td>no</td>\n",
       "      <td>no</td>\n",
       "      <td>no</td>\n",
       "      <td>no</td>\n",
       "      <td>no</td>\n",
       "      <td>no</td>\n",
       "      <td>no</td>\n",
       "      <td>no</td>\n",
       "    </tr>\n",
       "    <tr>\n",
       "      <th>6</th>\n",
       "      <td>female</td>\n",
       "      <td>2009-04-20</td>\n",
       "      <td>within an hour</td>\n",
       "      <td>100%</td>\n",
       "      <td>t</td>\n",
       "      <td>2.0</td>\n",
       "      <td>t</td>\n",
       "      <td>Zilker</td>\n",
       "      <td>Guesthouse</td>\n",
       "      <td>Entire home/apt</td>\n",
       "      <td>...</td>\n",
       "      <td>yes</td>\n",
       "      <td>yes</td>\n",
       "      <td>yes</td>\n",
       "      <td>yes</td>\n",
       "      <td>yes</td>\n",
       "      <td>no</td>\n",
       "      <td>yes</td>\n",
       "      <td>yes</td>\n",
       "      <td>yes</td>\n",
       "      <td>no</td>\n",
       "    </tr>\n",
       "    <tr>\n",
       "      <th>7</th>\n",
       "      <td>female</td>\n",
       "      <td>2009-07-11</td>\n",
       "      <td>within a day</td>\n",
       "      <td>100%</td>\n",
       "      <td>f</td>\n",
       "      <td>1.0</td>\n",
       "      <td>f</td>\n",
       "      <td>East Riverside</td>\n",
       "      <td>Guest suite</td>\n",
       "      <td>Entire home/apt</td>\n",
       "      <td>...</td>\n",
       "      <td>no</td>\n",
       "      <td>no</td>\n",
       "      <td>no</td>\n",
       "      <td>no</td>\n",
       "      <td>no</td>\n",
       "      <td>no</td>\n",
       "      <td>no</td>\n",
       "      <td>no</td>\n",
       "      <td>no</td>\n",
       "      <td>no</td>\n",
       "    </tr>\n",
       "    <tr>\n",
       "      <th>8</th>\n",
       "      <td>female</td>\n",
       "      <td>2009-11-27</td>\n",
       "      <td>within a few hours</td>\n",
       "      <td>100%</td>\n",
       "      <td>t</td>\n",
       "      <td>1.0</td>\n",
       "      <td>t</td>\n",
       "      <td>Travis Heights</td>\n",
       "      <td>House</td>\n",
       "      <td>Entire home/apt</td>\n",
       "      <td>...</td>\n",
       "      <td>yes</td>\n",
       "      <td>yes</td>\n",
       "      <td>yes</td>\n",
       "      <td>yes</td>\n",
       "      <td>yes</td>\n",
       "      <td>no</td>\n",
       "      <td>yes</td>\n",
       "      <td>yes</td>\n",
       "      <td>yes</td>\n",
       "      <td>no</td>\n",
       "    </tr>\n",
       "    <tr>\n",
       "      <th>9</th>\n",
       "      <td>male</td>\n",
       "      <td>2009-11-30</td>\n",
       "      <td>within a day</td>\n",
       "      <td>80%</td>\n",
       "      <td>f</td>\n",
       "      <td>2.0</td>\n",
       "      <td>t</td>\n",
       "      <td>NaN</td>\n",
       "      <td>House</td>\n",
       "      <td>Entire home/apt</td>\n",
       "      <td>...</td>\n",
       "      <td>no</td>\n",
       "      <td>no</td>\n",
       "      <td>no</td>\n",
       "      <td>no</td>\n",
       "      <td>no</td>\n",
       "      <td>no</td>\n",
       "      <td>no</td>\n",
       "      <td>no</td>\n",
       "      <td>yes</td>\n",
       "      <td>yes</td>\n",
       "    </tr>\n",
       "  </tbody>\n",
       "</table>\n",
       "<p>10 rows × 75 columns</p>\n",
       "</div>"
      ],
      "text/plain": [
       "       host_type  host_since  host_response_time host_response_rate  \\\n",
       "0  mostly_female  2013-01-08      within an hour               100%   \n",
       "1           male  2008-08-23      within an hour               100%   \n",
       "2           male  2008-08-23      within an hour               100%   \n",
       "3         female  2009-02-16  within a few hours               100%   \n",
       "4         female  2009-02-19  within a few hours               100%   \n",
       "5           male  2009-04-17      within an hour               100%   \n",
       "6         female  2009-04-20      within an hour               100%   \n",
       "7         female  2009-07-11        within a day               100%   \n",
       "8         female  2009-11-27  within a few hours               100%   \n",
       "9           male  2009-11-30        within a day                80%   \n",
       "\n",
       "  host_is_superhost  host_total_listings_count host_identity_verified  \\\n",
       "0                 t                        3.0                      t   \n",
       "1                 t                        3.0                      t   \n",
       "2                 t                        3.0                      t   \n",
       "3                 t                        1.0                      t   \n",
       "4                 t                        1.0                      t   \n",
       "5                 t                        1.0                      f   \n",
       "6                 t                        2.0                      t   \n",
       "7                 f                        1.0                      f   \n",
       "8                 t                        1.0                      t   \n",
       "9                 f                        2.0                      t   \n",
       "\n",
       "         neighbourhood property_type        room_type        ...         \\\n",
       "0  University of Texas    Guesthouse  Entire home/apt        ...          \n",
       "1        East Downtown         House  Entire home/apt        ...          \n",
       "2        East Downtown         House     Private room        ...          \n",
       "3        East Downtown    Guesthouse  Entire home/apt        ...          \n",
       "4    SW Williamson Co.         House     Private room        ...          \n",
       "5       Travis Heights     Apartment  Entire home/apt        ...          \n",
       "6               Zilker    Guesthouse  Entire home/apt        ...          \n",
       "7       East Riverside   Guest suite  Entire home/apt        ...          \n",
       "8       Travis Heights         House  Entire home/apt        ...          \n",
       "9                  NaN         House  Entire home/apt        ...          \n",
       "\n",
       "   Dishes_and_silverware  Cooking_basics  Oven  Stove Garden_or_backyard  \\\n",
       "0                     no              no    no     no                 no   \n",
       "1                    yes             yes   yes    yes                yes   \n",
       "2                     no              no    no     no                 no   \n",
       "3                    yes              no    no     no                yes   \n",
       "4                     no              no    no     no                 no   \n",
       "5                     no              no    no     no                 no   \n",
       "6                    yes             yes   yes    yes                yes   \n",
       "7                     no              no    no     no                 no   \n",
       "8                    yes             yes   yes    yes                yes   \n",
       "9                     no              no    no     no                 no   \n",
       "\n",
       "  Lock_on_bedroom_door  Luggage_dropoff_allowed  Patio_or_balcony  \\\n",
       "0                   no                       no                no   \n",
       "1                   no                       no                no   \n",
       "2                  yes                      yes                no   \n",
       "3                   no                      yes               yes   \n",
       "4                  yes                       no                no   \n",
       "5                   no                       no                no   \n",
       "6                   no                      yes               yes   \n",
       "7                   no                       no                no   \n",
       "8                   no                      yes               yes   \n",
       "9                   no                       no                no   \n",
       "\n",
       "   Long_term_stays_allowed  Indoor_fireplace  \n",
       "0                       no                no  \n",
       "1                       no                no  \n",
       "2                       no                no  \n",
       "3                      yes                no  \n",
       "4                       no               yes  \n",
       "5                       no                no  \n",
       "6                      yes                no  \n",
       "7                       no                no  \n",
       "8                      yes                no  \n",
       "9                      yes               yes  \n",
       "\n",
       "[10 rows x 75 columns]"
      ]
     },
     "execution_count": 20,
     "metadata": {},
     "output_type": "execute_result"
    }
   ],
   "source": [
    "data = data.iloc[:, : 75]\n",
    "data.head(10)"
   ]
  },
  {
   "cell_type": "code",
   "execution_count": 21,
   "metadata": {
    "collapsed": true,
    "scrolled": true
   },
   "outputs": [],
   "source": [
    "data.to_csv(r'data/data.csv', index=False)\n",
    "PATH_TO_DATASET = 'data/'\n",
    "DATASET_NAME = 'data.csv'"
   ]
  },
  {
   "cell_type": "code",
   "execution_count": 22,
   "metadata": {
    "collapsed": true
   },
   "outputs": [],
   "source": [
    "# Upload dataset\n",
    "status, message = ds.delete_dataset(DATASET_NAME)\n",
    "status, dataset = ds.upload_dataset(os.path.join(PATH_TO_DATASET, DATASET_NAME))\n",
    "if not status:\n",
    "    print(dataset)"
   ]
  },
  {
   "cell_type": "markdown",
   "metadata": {},
   "source": [
    "**Clean dataset with Darwin**"
   ]
  },
  {
   "cell_type": "code",
   "execution_count": 28,
   "metadata": {},
   "outputs": [
    {
     "name": "stdout",
     "output_type": "stream",
     "text": [
      "{'status': 'Taken', 'starttime': '2019-04-21T15:11:36.403519', 'endtime': None, 'percent_complete': 0, 'job_type': 'CleanDataTiny', 'loss': None, 'generations': None, 'dataset_names': ['data.csv'], 'artifact_names': ['7f78a48ec8cf47fa842d8ad47ada35bb'], 'model_name': None, 'job_error': None}\n",
      "{'status': 'Complete', 'starttime': '2019-04-21T15:11:36.403519', 'endtime': '2019-04-21T15:11:47.709582', 'percent_complete': 100, 'job_type': 'CleanDataTiny', 'loss': None, 'generations': None, 'dataset_names': ['data.csv'], 'artifact_names': ['7f78a48ec8cf47fa842d8ad47ada35bb'], 'model_name': None, 'job_error': ''}\n"
     ]
    }
   ],
   "source": [
    "# clean dataset\n",
    "target = \"price\"\n",
    "status, job_id = ds.clean_data(DATASET_NAME, target = target)\n",
    "\n",
    "if status:\n",
    "    ds.wait_for_job(job_id['job_name'])\n",
    "else:\n",
    "    print(job_id)"
   ]
  },
  {
   "cell_type": "markdown",
   "metadata": {},
   "source": [
    "# Create and Train Model "
   ]
  },
  {
   "cell_type": "code",
   "execution_count": 30,
   "metadata": {},
   "outputs": [
    {
     "name": "stdout",
     "output_type": "stream",
     "text": [
      "{'status': 'Requested', 'starttime': '2019-04-21T16:14:35.474068', 'endtime': None, 'percent_complete': 0, 'job_type': 'TrainModel', 'loss': None, 'generations': 0, 'dataset_names': ['data.csv'], 'artifact_names': None, 'model_name': 'price_model020190421143417', 'job_error': None}\n",
      "{'status': 'Running', 'starttime': '2019-04-21T16:14:35.474068', 'endtime': None, 'percent_complete': 1, 'job_type': 'TrainModel', 'loss': 0.37909039855003357, 'generations': 0, 'dataset_names': ['data.csv'], 'artifact_names': None, 'model_name': 'price_model020190421143417', 'job_error': ''}\n",
      "{'status': 'Running', 'starttime': '2019-04-21T16:14:35.474068', 'endtime': None, 'percent_complete': 7, 'job_type': 'TrainModel', 'loss': 0.37909039855003357, 'generations': 1, 'dataset_names': ['data.csv'], 'artifact_names': None, 'model_name': 'price_model020190421143417', 'job_error': ''}\n",
      "{'status': 'Running', 'starttime': '2019-04-21T16:14:35.474068', 'endtime': None, 'percent_complete': 7, 'job_type': 'TrainModel', 'loss': 0.37909039855003357, 'generations': 1, 'dataset_names': ['data.csv'], 'artifact_names': None, 'model_name': 'price_model020190421143417', 'job_error': ''}\n",
      "{'status': 'Running', 'starttime': '2019-04-21T16:14:35.474068', 'endtime': None, 'percent_complete': 15, 'job_type': 'TrainModel', 'loss': 0.3482987582683563, 'generations': 2, 'dataset_names': ['data.csv'], 'artifact_names': None, 'model_name': 'price_model020190421143417', 'job_error': ''}\n",
      "{'status': 'Running', 'starttime': '2019-04-21T16:14:35.474068', 'endtime': None, 'percent_complete': 20, 'job_type': 'TrainModel', 'loss': 0.3482987582683563, 'generations': 4, 'dataset_names': ['data.csv'], 'artifact_names': None, 'model_name': 'price_model020190421143417', 'job_error': ''}\n",
      "{'status': 'Failed', 'starttime': '2019-04-21T16:14:35.474068', 'endtime': '2019-04-21T16:16:00.019914', 'percent_complete': 100, 'job_type': 'TrainModel', 'loss': 0.3482987582683563, 'generations': 4, 'dataset_names': ['data.csv'], 'artifact_names': None, 'model_name': 'price_model020190421143417', 'job_error': ''}\n"
     ]
    }
   ],
   "source": [
    "model = target + \"_model0\" + ts\n",
    "status, message = ds.delete_model(model)\n",
    "status, job_id = ds.create_model(dataset_names = DATASET_NAME, \\\n",
    "                                 model_name =  model, \\\n",
    "                                 max_train_time = '00:05')\n",
    "if status:\n",
    "    ds.wait_for_job(job_id['job_name'])\n",
    "else:\n",
    "    print(job_id)"
   ]
  },
  {
   "cell_type": "markdown",
   "metadata": {},
   "source": [
    "# Extra Training"
   ]
  },
  {
   "cell_type": "code",
   "execution_count": 25,
   "metadata": {},
   "outputs": [
    {
     "name": "stdout",
     "output_type": "stream",
     "text": [
      "{'status': 'Running', 'starttime': '2019-04-21T14:55:13.740551', 'endtime': None, 'percent_complete': 0, 'job_type': 'UpdateModel', 'loss': 0.37909039855003357, 'generations': 2, 'dataset_names': ['data.csv'], 'artifact_names': None, 'model_name': 'price_model020190421143417', 'job_error': ''}\n",
      "{'status': 'Running', 'starttime': '2019-04-21T14:55:13.740551', 'endtime': None, 'percent_complete': 0, 'job_type': 'UpdateModel', 'loss': 0.37909039855003357, 'generations': 4, 'dataset_names': ['data.csv'], 'artifact_names': None, 'model_name': 'price_model020190421143417', 'job_error': ''}\n",
      "{'status': 'Running', 'starttime': '2019-04-21T14:55:13.740551', 'endtime': None, 'percent_complete': 0, 'job_type': 'UpdateModel', 'loss': 0.37909039855003357, 'generations': 5, 'dataset_names': ['data.csv'], 'artifact_names': None, 'model_name': 'price_model020190421143417', 'job_error': ''}\n",
      "{'status': 'Running', 'starttime': '2019-04-21T14:55:13.740551', 'endtime': None, 'percent_complete': 0, 'job_type': 'UpdateModel', 'loss': 0.37909039855003357, 'generations': 5, 'dataset_names': ['data.csv'], 'artifact_names': None, 'model_name': 'price_model020190421143417', 'job_error': ''}\n",
      "{'status': 'Failed', 'starttime': '2019-04-21T14:55:13.740551', 'endtime': '2019-04-21T14:56:05.509683', 'percent_complete': 100, 'job_type': 'UpdateModel', 'loss': 0.37909039855003357, 'generations': 5, 'dataset_names': ['data.csv'], 'artifact_names': None, 'model_name': 'price_model020190421143417', 'job_error': ''}\n"
     ]
    }
   ],
   "source": [
    "# Train some more\n",
    "status, job_id = ds.resume_training_model(dataset_names = DATASET_NAME,\n",
    "                                          model_name = model,\n",
    "                                          max_train_time = '04:00')\n",
    "                                          \n",
    "if status:\n",
    "    ds.wait_for_job(job_id['job_name'])\n",
    "else:\n",
    "    print(job_id)"
   ]
  },
  {
   "cell_type": "markdown",
   "metadata": {},
   "source": [
    "# Analyze Model\n",
    "Analyze model provides feature importance ranked by the model. <br> It indicates a general view of which features pose a bigger impact on the model"
   ]
  },
  {
   "cell_type": "code",
   "execution_count": 26,
   "metadata": {},
   "outputs": [
    {
     "name": "stdout",
     "output_type": "stream",
     "text": [
      "{'status': 'Failed', 'starttime': '2019-04-21T15:00:02.809224', 'endtime': '2019-04-21T15:00:03.073091', 'percent_complete': 100, 'job_type': 'AnalyzeModel', 'loss': 0.37909039855003357, 'generations': 5, 'dataset_names': None, 'artifact_names': ['157fe9a277744ad681a24bdbd7c9c1f8'], 'model_name': 'price_model020190421143417', 'job_error': 'FailedDownload: Failed to download entity of type Object from location models/e4645b04-4fc2-11e9-b56b-4b24b0c406e7_price_model020190421143417/node_model/data_profiler_main_minified'}\n"
     ]
    }
   ],
   "source": [
    "# Retrieve feature importance of built model\n",
    "status, artifact = ds.analyze_model(model)\n",
    "sleep(1)\n",
    "if status:\n",
    "    ds.wait_for_job(artifact['job_name'])\n",
    "else:\n",
    "    print(artifact)\n",
    "status, feature_importance = ds.download_artifact(artifact['artifact_name'])"
   ]
  },
  {
   "cell_type": "markdown",
   "metadata": {},
   "source": [
    "Show the 10 most important features of the model:"
   ]
  },
  {
   "cell_type": "code",
   "execution_count": 27,
   "metadata": {},
   "outputs": [
    {
     "data": {
      "text/plain": [
       "'404: NOT F'"
      ]
     },
     "execution_count": 27,
     "metadata": {},
     "output_type": "execute_result"
    }
   ],
   "source": [
    "feature_importance[:10]"
   ]
  },
  {
   "cell_type": "markdown",
   "metadata": {},
   "source": [
    "# Predictions\n",
    "**Perform model prediction on the the training dataset.**"
   ]
  },
  {
   "cell_type": "code",
   "execution_count": 130,
   "metadata": {},
   "outputs": [
    {
     "name": "stdout",
     "output_type": "stream",
     "text": [
      "{'status': 'Running', 'starttime': '2019-04-20T23:32:04.085047', 'endtime': None, 'percent_complete': 0, 'job_type': 'RunModel', 'loss': 0.3732473850250244, 'generations': 6, 'dataset_names': ['data.csv'], 'artifact_names': ['e3b1260aa21145ff98549671e2b6be15'], 'model_name': 'price_model020190420212040', 'job_error': ''}\n",
      "{'status': 'Complete', 'starttime': '2019-04-20T23:32:04.085047', 'endtime': '2019-04-20T23:32:06.153646', 'percent_complete': 100, 'job_type': 'RunModel', 'loss': 0.3732473850250244, 'generations': 6, 'dataset_names': ['data.csv'], 'artifact_names': ['e3b1260aa21145ff98549671e2b6be15'], 'model_name': 'price_model020190420212040', 'job_error': ''}\n"
     ]
    },
    {
     "data": {
      "text/plain": [
       "(True, 'Job completed')"
      ]
     },
     "execution_count": 130,
     "metadata": {},
     "output_type": "execute_result"
    }
   ],
   "source": [
    "status, artifact = ds.run_model(DATASET_NAME, model)\n",
    "sleep(1)\n",
    "ds.wait_for_job(artifact['job_name'])"
   ]
  },
  {
   "cell_type": "markdown",
   "metadata": {},
   "source": [
    "Download predictions from Darwin's server."
   ]
  },
  {
   "cell_type": "code",
   "execution_count": 131,
   "metadata": {},
   "outputs": [
    {
     "data": {
      "text/html": [
       "<div>\n",
       "<style>\n",
       "    .dataframe thead tr:only-child th {\n",
       "        text-align: right;\n",
       "    }\n",
       "\n",
       "    .dataframe thead th {\n",
       "        text-align: left;\n",
       "    }\n",
       "\n",
       "    .dataframe tbody tr th {\n",
       "        vertical-align: top;\n",
       "    }\n",
       "</style>\n",
       "<table border=\"1\" class=\"dataframe\">\n",
       "  <thead>\n",
       "    <tr style=\"text-align: right;\">\n",
       "      <th></th>\n",
       "      <th>price</th>\n",
       "    </tr>\n",
       "  </thead>\n",
       "  <tbody>\n",
       "    <tr>\n",
       "      <th>0</th>\n",
       "      <td>80.361412</td>\n",
       "    </tr>\n",
       "    <tr>\n",
       "      <th>1</th>\n",
       "      <td>190.998184</td>\n",
       "    </tr>\n",
       "    <tr>\n",
       "      <th>2</th>\n",
       "      <td>95.692223</td>\n",
       "    </tr>\n",
       "    <tr>\n",
       "      <th>3</th>\n",
       "      <td>85.602348</td>\n",
       "    </tr>\n",
       "    <tr>\n",
       "      <th>4</th>\n",
       "      <td>68.550514</td>\n",
       "    </tr>\n",
       "  </tbody>\n",
       "</table>\n",
       "</div>"
      ],
      "text/plain": [
       "        price\n",
       "0   80.361412\n",
       "1  190.998184\n",
       "2   95.692223\n",
       "3   85.602348\n",
       "4   68.550514"
      ]
     },
     "execution_count": 131,
     "metadata": {},
     "output_type": "execute_result"
    }
   ],
   "source": [
    "status, prediction = ds.download_artifact(artifact['artifact_name'])\n",
    "prediction.head()"
   ]
  },
  {
   "cell_type": "markdown",
   "metadata": {},
   "source": [
    "Create plots comparing predictions with actual target"
   ]
  },
  {
   "cell_type": "code",
   "execution_count": 132,
   "metadata": {},
   "outputs": [
    {
     "name": "stdout",
     "output_type": "stream",
     "text": [
      "R^2 :  0.7088317742725563\n"
     ]
    },
    {
     "data": {
      "image/png": "[encoded data removed]",
      "text/plain": [
       "<Figure size 432x288 with 1 Axes>"
      ]
     },
     "metadata": {},
     "output_type": "display_data"
    }
   ],
   "source": [
    "#Plot predictions vs actual\n",
    "plt.plot(data[target], prediction[target], '.')\n",
    "plt.plot([0,2.3e7],[0,2.3e7],'--k')\n",
    "\n",
    "print('R^2 : ', r2_score(data[target], prediction[target]))"
   ]
  },
  {
   "cell_type": "code",
   "execution_count": 133,
   "metadata": {},
   "outputs": [
    {
     "data": {
      "text/plain": [
       "<matplotlib.collections.PathCollection at 0x1b6688430b8>"
      ]
     },
     "execution_count": 133,
     "metadata": {},
     "output_type": "execute_result"
    },
    {
     "data": {
      "image/png": "[encoded data removed]",
      "text/plain": [
       "<Figure size 432x288 with 1 Axes>"
      ]
     },
     "metadata": {},
     "output_type": "display_data"
    }
   ],
   "source": [
    "import matplotlib.pyplot as plt\n",
    "# create the scatter plot\n",
    "plt.scatter(x=data[target], y=prediction[target], )"
   ]
  },
  {
   "cell_type": "markdown",
   "metadata": {},
   "source": [
    "## Find out which machine learning model did Darwin use:"
   ]
  },
  {
   "cell_type": "code",
   "execution_count": 134,
   "metadata": {},
   "outputs": [
    {
     "name": "stdout",
     "output_type": "stream",
     "text": [
      "{'type': 'XGBRegressor', 'parameters': {}}\n"
     ]
    }
   ],
   "source": [
    "status, model_type = ds.lookup_model_name(model)\n",
    "print(model_type['description']['best_genome'])"
   ]
  }
 ],
 "metadata": {
  "kernelspec": {
   "display_name": "Python 3",
   "language": "python",
   "name": "python3"
  },
  "language_info": {
   "codemirror_mode": {
    "name": "ipython",
    "version": 3
   },
   "file_extension": ".py",
   "mimetype": "text/x-python",
   "name": "python",
   "nbconvert_exporter": "python",
   "pygments_lexer": "ipython3",
   "version": "3.6.3"
  }
 },
 "nbformat": 4,
 "nbformat_minor": 2
}
