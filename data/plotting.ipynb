{
 "cells": [
  {
   "cell_type": "code",
   "execution_count": null,
   "metadata": {},
   "outputs": [
    {
     "name": "stdout",
     "output_type": "stream",
     "text": [
      "   actual   predicted\n",
      "0      85   76.840508\n",
      "1     225  189.202652\n",
      "2     100  113.343941\n",
      "3      95   85.230247\n",
      "4      40   39.837166\n",
      "   actual   predicted  fil\n",
      "0      85   76.840508    1\n",
      "1     225  189.202652    1\n",
      "2     100  113.343941    0\n",
      "3      95   85.230247    1\n",
      "4      40   39.837166    1\n"
     ]
    },
    {
     "data": {
      "text/plain": [
       "<matplotlib.collections.PathCollection at 0x2b32cfa00f0>"
      ]
     },
     "execution_count": 58,
     "metadata": {},
     "output_type": "execute_result"
    }
   ],
   "source": [
    "import matplotlib.pyplot as plt\n",
    "import pandas as pd\n",
    "from IPython.display import Image\n",
    "from time import sleep\n",
    "import os\n",
    "import sys\n",
    "import numpy as np\n",
    "import pandas as pd\n",
    "import re\n",
    "from pandas import DataFrame, Series\n",
    "\n",
    "dataset = pd.read_csv(\"vis.csv\", header = 0)\n",
    "mem = []\n",
    "filter_actual = []\n",
    "filter_predicted = []\n",
    "\n",
    "print(dataset.head())\n",
    "\n",
    "x = dataset['actual']\n",
    "y = dataset['predicted']\n",
    "z = x - y\n",
    "fil1 = []\n",
    "fil2=[]\n",
    "gray=[]\n",
    "\n",
    "# create linear object\n",
    "l = len(x)\n",
    "for i in range(l):\n",
    "    gray.append(i)\n",
    "# plot linear object\n",
    "plt.plot(gray, color=\"red\")\n",
    "# split distances into two categories\n",
    "\n",
    "for row in dataset.itertuples():\n",
    "    actual = row.actual\n",
    "    predicted = row.predicted\n",
    "    if actual > predicted:\n",
    "        fil1.append(1)\n",
    "    else:\n",
    "        fil1.append(0)\n",
    "\n",
    "dataset['fil'] = Series(fil1)\n",
    "print(dataset.head())\n",
    "colors = {0:'#a961d3', 1:'#bbe04e'}\n",
    "plt.scatter(dataset['actual'], \n",
    "           dataset['predicted'], \n",
    "           c= dataset['fil'].apply(lambda x: colors[x]))"
   ]
  },
  {
   "cell_type": "code",
   "execution_count": null,
   "metadata": {},
   "outputs": [],
   "source": []
  }
 ],
 "metadata": {
  "kernelspec": {
   "display_name": "Python 3",
   "language": "python",
   "name": "python3"
  },
  "language_info": {
   "codemirror_mode": {
    "name": "ipython",
    "version": 3
   },
   "file_extension": ".py",
   "mimetype": "text/x-python",
   "name": "python",
   "nbconvert_exporter": "python",
   "pygments_lexer": "ipython3",
   "version": "3.7.1"
  }
 },
 "nbformat": 4,
 "nbformat_minor": 2
}
