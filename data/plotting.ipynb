{
 "cells": [
  {
   "cell_type": "code",
   "execution_count": 58,
   "metadata": {},
   "outputs": [
    {
     "name": "stdout",
     "output_type": "stream",
     "text": [
      "   actual   predicted\n",
      "0      85   76.840508\n",
      "1     225  189.202652\n",
      "2     100  113.343941\n",
      "3      95   85.230247\n",
      "4      40   39.837166\n",
      "   actual   predicted  fil\n",
      "0      85   76.840508    1\n",
      "1     225  189.202652    1\n",
      "2     100  113.343941    0\n",
      "3      95   85.230247    1\n",
      "4      40   39.837166    1\n"
     ]
    },
    {
     "data": {
      "text/plain": [
       "<matplotlib.collections.PathCollection at 0x2b32cfa00f0>"
      ]
     },
     "execution_count": 58,
     "metadata": {},
     "output_type": "execute_result"
    },
    {
     "data": {
      "image/png": "[encoded data removed]",
      "text/plain": [
       "<Figure size 432x288 with 1 Axes>"
      ]
     },
     "metadata": {
      "needs_background": "light"
     },
     "output_type": "display_data"
    }
   ],
   "source": [
    "import matplotlib.pyplot as plt\n",
    "import pandas as pd\n",
    "from IPython.display import Image\n",
    "from time import sleep\n",
    "import os\n",
    "import sys\n",
    "import numpy as np\n",
    "import pandas as pd\n",
    "import re\n",
    "from pandas import DataFrame, Series\n",
    "\n",
    "dataset = pd.read_csv(\"vis.csv\", header = 0)\n",
    "mem = []\n",
    "filter_actual = []\n",
    "filter_predicted = []\n",
    "\n",
    "print(dataset.head())\n",
    "\n",
    "x = dataset['actual']\n",
    "y = dataset['predicted']\n",
    "z = x - y\n",
    "fil1 = []\n",
    "fil2=[]\n",
    "gray=[]\n",
    "\n",
    "# create linear object\n",
    "l = len(x)\n",
    "for i in range(l):\n",
    "    gray.append(i)\n",
    "# plot linear object\n",
    "plt.plot(gray, color=\"red\")\n",
    "# split distances into two categories\n",
    "\n",
    "for row in dataset.itertuples():\n",
    "    actual = row.actual\n",
    "    predicted = row.predicted\n",
    "    if actual > predicted:\n",
    "        fil1.append(1)\n",
    "    else:\n",
    "        fil1.append(0)\n",
    "\n",
    "dataset['fil'] = Series(fil1)\n",
    "print(dataset.head())\n",
    "colors = {0:'#a961d3', 1:'#bbe04e'}\n",
    "plt.scatter(dataset['actual'], \n",
    "           dataset['predicted'], \n",
    "           c= dataset['fil'].apply(lambda x: colors[x]))"
   ]
  },
  {
   "cell_type": "code",
   "execution_count": 64,
   "metadata": {},
   "outputs": [
    {
     "name": "stdout",
     "output_type": "stream",
     "text": [
      "       host_type  host_since  host_response_time host_response_rate  \\\n",
      "0  mostly_female  2013-01-08      within an hour               100%   \n",
      "1           male  2008-08-23      within an hour               100%   \n",
      "2           male  2008-08-23      within an hour               100%   \n",
      "3         female  2009-02-16  within a few hours               100%   \n",
      "4         female  2009-02-19  within a few hours               100%   \n",
      "\n",
      "  host_is_superhost  host_total_listings_count host_identity_verified  \\\n",
      "0                 t                        3.0                      t   \n",
      "1                 t                        3.0                      t   \n",
      "2                 t                        3.0                      t   \n",
      "3                 t                        1.0                      t   \n",
      "4                 t                        1.0                      t   \n",
      "\n",
      "         neighbourhood property_type        room_type  ...    \\\n",
      "0  University of Texas    Guesthouse  Entire home/apt  ...     \n",
      "1        East Downtown         House  Entire home/apt  ...     \n",
      "2        East Downtown         House     Private room  ...     \n",
      "3        East Downtown    Guesthouse  Entire home/apt  ...     \n",
      "4    SW Williamson Co.         House     Private room  ...     \n",
      "\n",
      "   review_scores_checkin  review_scores_communication  review_scores_location  \\\n",
      "0                   10.0                         10.0                    10.0   \n",
      "1                    9.0                         10.0                     8.0   \n",
      "2                   10.0                          9.0                    10.0   \n",
      "3                   10.0                         10.0                    10.0   \n",
      "4                   10.0                         10.0                    10.0   \n",
      "\n",
      "   review_scores_value instant_bookable          cancellation_policy  \\\n",
      "0                 10.0                t                     flexible   \n",
      "1                  9.0                f  strict_14_with_grace_period   \n",
      "2                  9.0                f  strict_14_with_grace_period   \n",
      "3                 10.0                f  strict_14_with_grace_period   \n",
      "4                 10.0                f                     moderate   \n",
      "\n",
      "   calculated_host_listings_count  reviews_per_month  price  ratio  \n",
      "0                               3               1.63     85   85.0  \n",
      "1                               3               0.19    225  112.5  \n",
      "2                               3               0.07    100  100.0  \n",
      "3                               1               3.88     95   47.5  \n",
      "4                               1               2.21     40   40.0  \n",
      "\n",
      "[5 rows x 36 columns]\n"
     ]
    }
   ],
   "source": [
    "dataset = pd.read_csv(\"data.csv\", header = 0)\n",
    "\n",
    "lista =[]\n",
    "for row in dataset.itertuples():\n",
    "    price = row.price\n",
    "    nights = row.minimum_nights\n",
    "    ratio = price/nights\n",
    "    if ratio < 35:\n",
    "        lista.append(price)\n",
    "    else:\n",
    "        lista.append(ratio)\n",
    "lista = Series(lista)\n",
    "\n",
    "dataset['ratio'] = lista\n",
    "print(dataset.head())"
   ]
  },
  {
   "cell_type": "code",
   "execution_count": null,
   "metadata": {},
   "outputs": [],
   "source": []
  }
 ],
 "metadata": {
  "kernelspec": {
   "display_name": "Python 3",
   "language": "python",
   "name": "python3"
  },
  "language_info": {
   "codemirror_mode": {
    "name": "ipython",
    "version": 3
   },
   "file_extension": ".py",
   "mimetype": "text/x-python",
   "name": "python",
   "nbconvert_exporter": "python",
   "pygments_lexer": "ipython3",
   "version": "3.7.1"
  }
 },
 "nbformat": 4,
 "nbformat_minor": 2
}
