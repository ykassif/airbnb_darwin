{
 "cells": [
  {
   "cell_type": "code",
   "execution_count": 6,
   "metadata": {},
   "outputs": [
    {
     "name": "stdout",
     "output_type": "stream",
     "text": [
      "       host_type  host_since  host_response_time host_response_rate  \\\n",
      "0  mostly_female  2013-01-08      within an hour               100%   \n",
      "1           male  2008-08-23      within an hour               100%   \n",
      "2           male  2008-08-23      within an hour               100%   \n",
      "3         female  2009-02-16  within a few hours               100%   \n",
      "4         female  2009-02-19  within a few hours               100%   \n",
      "\n",
      "  host_is_superhost  host_total_listings_count host_identity_verified  \\\n",
      "0                 t                        3.0                      t   \n",
      "1                 t                        3.0                      t   \n",
      "2                 t                        3.0                      t   \n",
      "3                 t                        1.0                      t   \n",
      "4                 t                        1.0                      t   \n",
      "\n",
      "         neighbourhood property_type        room_type  ...    \\\n",
      "0  University of Texas    Guesthouse  Entire home/apt  ...     \n",
      "1        East Downtown         House  Entire home/apt  ...     \n",
      "2        East Downtown         House     Private room  ...     \n",
      "3        East Downtown    Guesthouse  Entire home/apt  ...     \n",
      "4    SW Williamson Co.         House     Private room  ...     \n",
      "\n",
      "   review_scores_checkin  review_scores_communication  review_scores_location  \\\n",
      "0                   10.0                         10.0                    10.0   \n",
      "1                    9.0                         10.0                     8.0   \n",
      "2                   10.0                          9.0                    10.0   \n",
      "3                   10.0                         10.0                    10.0   \n",
      "4                   10.0                         10.0                    10.0   \n",
      "\n",
      "   review_scores_value instant_bookable          cancellation_policy  \\\n",
      "0                 10.0                t                     flexible   \n",
      "1                  9.0                f  strict_14_with_grace_period   \n",
      "2                  9.0                f  strict_14_with_grace_period   \n",
      "3                 10.0                f  strict_14_with_grace_period   \n",
      "4                 10.0                f                     moderate   \n",
      "\n",
      "   calculated_host_listings_count  reviews_per_month  price  ratio  \n",
      "0                               3               1.63     85   85.0  \n",
      "1                               3               0.19    225  112.5  \n",
      "2                               3               0.07    100  100.0  \n",
      "3                               1               3.88     95   47.5  \n",
      "4                               1               2.21     40   40.0  \n",
      "\n",
      "[5 rows x 36 columns]\n"
     ]
    }
   ],
   "source": [
    "# adjusts price label to get price per night\n",
    "\n",
    "dataset = pd.read_csv(\"data/data.csv\", header = 0)\n",
    "\n",
    "lista =[]\n",
    "for row in dataset.itertuples():\n",
    "    price = row.price\n",
    "    nights = row.minimum_nights\n",
    "    ratio = price/nights\n",
    "    if ratio < 35:\n",
    "        lista.append(price)\n",
    "    else:\n",
    "        lista.append(ratio)\n",
    "lista = Series(lista)\n",
    "\n",
    "dataset['ratio'] = lista\n",
    "print(dataset.head())\n",
    "\n",
    "dataset.to_csv(r'data/adjusted_data.csv', index=False)"
   ]
  },
  {
   "cell_type": "code",
   "execution_count": 7,
   "metadata": {
    "collapsed": true
   },
   "outputs": [],
   "source": [
    "vis = pd.DataFrame(columns = ['actual', 'predicted'])\n",
    "\n",
    "vis['actual'] = series_1\n",
    "\n",
    "vis['predicted'] = series_2"
   ]
  },
  {
   "cell_type": "code",
   "execution_count": null,
   "metadata": {
    "collapsed": true
   },
   "outputs": [],
   "source": []
  }
 ],
 "metadata": {
  "kernelspec": {
   "display_name": "Python 3",
   "language": "python",
   "name": "python3"
  },
  "language_info": {
   "codemirror_mode": {
    "name": "ipython",
    "version": 3
   },
   "file_extension": ".py",
   "mimetype": "text/x-python",
   "name": "python",
   "nbconvert_exporter": "python",
   "pygments_lexer": "ipython3",
   "version": "3.6.3"
  }
 },
 "nbformat": 4,
 "nbformat_minor": 2
}
